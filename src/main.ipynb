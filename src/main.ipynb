{
 "cells": [
  {
   "cell_type": "code",
   "id": "initial_id",
   "metadata": {
    "collapsed": true,
    "ExecuteTime": {
     "end_time": "2025-09-06T09:06:32.253424Z",
     "start_time": "2025-09-06T09:06:32.131098Z"
    }
   },
   "source": [
    "import tensorflow as tf\n",
    "import numpy as np\n",
    "import pandas as pd\n",
    "import tensorflow_hub as hub\n",
    "\n"
   ],
   "outputs": [],
   "execution_count": 5
  },
  {
   "cell_type": "code",
   "id": "116805c4540aaf57",
   "metadata": {
    "ExecuteTime": {
     "end_time": "2025-09-06T09:06:33.820773Z",
     "start_time": "2025-09-06T09:06:33.803534Z"
    }
   },
   "source": [
    "print(tf.__version__)"
   ],
   "outputs": [
    {
     "name": "stdout",
     "output_type": "stream",
     "text": [
      "2.10.0\n"
     ]
    }
   ],
   "execution_count": 6
  },
  {
   "cell_type": "code",
   "id": "4d124010",
   "metadata": {
    "ExecuteTime": {
     "end_time": "2025-09-06T09:06:35.612407Z",
     "start_time": "2025-09-06T09:06:35.605407Z"
    }
   },
   "source": [
    "print(\"TF:\", tf.__version__)\n",
    "print(\"GPU:\", tf.config.list_physical_devices(\"GPU\"))"
   ],
   "outputs": [
    {
     "name": "stdout",
     "output_type": "stream",
     "text": [
      "TF: 2.10.0\n",
      "GPU: [PhysicalDevice(name='/physical_device:GPU:0', device_type='GPU')]\n"
     ]
    }
   ],
   "execution_count": 7
  },
  {
   "cell_type": "code",
   "id": "8aab4548",
   "metadata": {
    "ExecuteTime": {
     "end_time": "2025-09-06T09:06:24.882429Z",
     "start_time": "2025-09-06T09:06:24.868076Z"
    }
   },
   "source": [],
   "outputs": [],
   "execution_count": null
  },
  {
   "cell_type": "code",
   "id": "f0c8a1dd",
   "metadata": {
    "ExecuteTime": {
     "end_time": "2025-09-06T09:06:24.897758Z",
     "start_time": "2025-09-06T09:06:24.889718Z"
    }
   },
   "source": [],
   "outputs": [],
   "execution_count": null
  }
 ],
 "metadata": {
  "kernelspec": {
   "display_name": "Python 3",
   "language": "python",
   "name": "python3"
  },
  "language_info": {
   "codemirror_mode": {
    "name": "ipython",
    "version": 3
   },
   "file_extension": ".py",
   "mimetype": "text/x-python",
   "name": "python",
   "nbconvert_exporter": "python",
   "pygments_lexer": "ipython3",
   "version": "3.10.11"
  }
 },
 "nbformat": 4,
 "nbformat_minor": 5
}
